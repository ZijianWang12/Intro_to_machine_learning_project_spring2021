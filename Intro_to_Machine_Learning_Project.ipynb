{
  "nbformat": 4,
  "nbformat_minor": 0,
  "metadata": {
    "kernelspec": {
      "display_name": "Python 3",
      "language": "python",
      "name": "python3"
    },
    "language_info": {
      "codemirror_mode": {
        "name": "ipython",
        "version": 3
      },
      "file_extension": ".py",
      "mimetype": "text/x-python",
      "name": "python",
      "nbconvert_exporter": "python",
      "pygments_lexer": "ipython3",
      "version": "3.8.5"
    },
    "colab": {
      "name": "Intro to Machine Learning Project.ipynb",
      "provenance": []
    }
  },
  "cells": [
    {
      "cell_type": "code",
      "metadata": {
        "id": "LWuFhCzgXZJQ"
      },
      "source": [
        "import pandas as pd\n",
        "import numpy as np\n",
        "import matplotlib.pyplot as plt\n",
        "import seaborn as sns\n",
        "import os"
      ],
      "execution_count": null,
      "outputs": []
    },
    {
      "cell_type": "code",
      "metadata": {
        "id": "An5ANwzpXZJU"
      },
      "source": [
        "import warnings\n",
        "warnings.filterwarnings('ignore')"
      ],
      "execution_count": null,
      "outputs": []
    },
    {
      "cell_type": "code",
      "metadata": {
        "id": "k6eJnh6oXZJV",
        "outputId": "8bc94a39-d8a8-4006-fdd7-746b655c5993"
      },
      "source": [
        "# load the data\n",
        "\n",
        "test_data = pd.read_csv('test.csv')\n",
        "train_data = pd.read_csv('train.csv')\n",
        "\n",
        "# have a look at features for training data\n",
        "\n",
        "train_feature_ = list(train_data.columns)\n",
        "print(train_feature_)\n",
        "\n",
        "feature = list(train_data.columns[1:-1])\n",
        "label = train_data.columns[-1]\n",
        "print(feature)\n",
        "print(label)"
      ],
      "execution_count": null,
      "outputs": [
        {
          "output_type": "stream",
          "text": [
            "['Id', 'MSSubClass', 'MSZoning', 'LotFrontage', 'LotArea', 'Street', 'Alley', 'LotShape', 'LandContour', 'Utilities', 'LotConfig', 'LandSlope', 'Neighborhood', 'Condition1', 'Condition2', 'BldgType', 'HouseStyle', 'OverallQual', 'OverallCond', 'YearBuilt', 'YearRemodAdd', 'RoofStyle', 'RoofMatl', 'Exterior1st', 'Exterior2nd', 'MasVnrType', 'MasVnrArea', 'ExterQual', 'ExterCond', 'Foundation', 'BsmtQual', 'BsmtCond', 'BsmtExposure', 'BsmtFinType1', 'BsmtFinSF1', 'BsmtFinType2', 'BsmtFinSF2', 'BsmtUnfSF', 'TotalBsmtSF', 'Heating', 'HeatingQC', 'CentralAir', 'Electrical', '1stFlrSF', '2ndFlrSF', 'LowQualFinSF', 'GrLivArea', 'BsmtFullBath', 'BsmtHalfBath', 'FullBath', 'HalfBath', 'BedroomAbvGr', 'KitchenAbvGr', 'KitchenQual', 'TotRmsAbvGrd', 'Functional', 'Fireplaces', 'FireplaceQu', 'GarageType', 'GarageYrBlt', 'GarageFinish', 'GarageCars', 'GarageArea', 'GarageQual', 'GarageCond', 'PavedDrive', 'WoodDeckSF', 'OpenPorchSF', 'EnclosedPorch', '3SsnPorch', 'ScreenPorch', 'PoolArea', 'PoolQC', 'Fence', 'MiscFeature', 'MiscVal', 'MoSold', 'YrSold', 'SaleType', 'SaleCondition', 'SalePrice']\n",
            "['MSSubClass', 'MSZoning', 'LotFrontage', 'LotArea', 'Street', 'Alley', 'LotShape', 'LandContour', 'Utilities', 'LotConfig', 'LandSlope', 'Neighborhood', 'Condition1', 'Condition2', 'BldgType', 'HouseStyle', 'OverallQual', 'OverallCond', 'YearBuilt', 'YearRemodAdd', 'RoofStyle', 'RoofMatl', 'Exterior1st', 'Exterior2nd', 'MasVnrType', 'MasVnrArea', 'ExterQual', 'ExterCond', 'Foundation', 'BsmtQual', 'BsmtCond', 'BsmtExposure', 'BsmtFinType1', 'BsmtFinSF1', 'BsmtFinType2', 'BsmtFinSF2', 'BsmtUnfSF', 'TotalBsmtSF', 'Heating', 'HeatingQC', 'CentralAir', 'Electrical', '1stFlrSF', '2ndFlrSF', 'LowQualFinSF', 'GrLivArea', 'BsmtFullBath', 'BsmtHalfBath', 'FullBath', 'HalfBath', 'BedroomAbvGr', 'KitchenAbvGr', 'KitchenQual', 'TotRmsAbvGrd', 'Functional', 'Fireplaces', 'FireplaceQu', 'GarageType', 'GarageYrBlt', 'GarageFinish', 'GarageCars', 'GarageArea', 'GarageQual', 'GarageCond', 'PavedDrive', 'WoodDeckSF', 'OpenPorchSF', 'EnclosedPorch', '3SsnPorch', 'ScreenPorch', 'PoolArea', 'PoolQC', 'Fence', 'MiscFeature', 'MiscVal', 'MoSold', 'YrSold', 'SaleType', 'SaleCondition']\n",
            "SalePrice\n"
          ],
          "name": "stdout"
        }
      ]
    },
    {
      "cell_type": "code",
      "metadata": {
        "id": "JpLbBE6IXZJW",
        "outputId": "a9681b7a-74ca-4731-c177-327f43544d89"
      },
      "source": [
        "# convert the dataset into numpy array\n",
        "\n",
        "train = np.array(train_data)\n",
        "test = np.array(test_data)\n",
        "\n",
        "# divide the training set into features and label (\"SalePrice\")\n",
        "\n",
        "X_train = train[:, 1:-1]\n",
        "y_train = train[:, -1]\n",
        "\n",
        "X_test = test[:, 1:]\n",
        "feature_set = np.vstack((X_train, X_test))\n",
        "\n",
        "print(train[0]) # have a look at the first training sample\n",
        "print(test[0]) # have a look at the first testing sample."
      ],
      "execution_count": null,
      "outputs": [
        {
          "output_type": "stream",
          "text": [
            "[1 60 'RL' 65.0 8450 'Pave' nan 'Reg' 'Lvl' 'AllPub' 'Inside' 'Gtl'\n",
            " 'CollgCr' 'Norm' 'Norm' '1Fam' '2Story' 7 5 2003 2003 'Gable' 'CompShg'\n",
            " 'VinylSd' 'VinylSd' 'BrkFace' 196.0 'Gd' 'TA' 'PConc' 'Gd' 'TA' 'No'\n",
            " 'GLQ' 706 'Unf' 0 150 856 'GasA' 'Ex' 'Y' 'SBrkr' 856 854 0 1710 1 0 2 1\n",
            " 3 1 'Gd' 8 'Typ' 0 nan 'Attchd' 2003.0 'RFn' 2 548 'TA' 'TA' 'Y' 0 61 0 0\n",
            " 0 0 nan nan nan 0 2 2008 'WD' 'Normal' 208500]\n",
            "[1461 20 'RH' 80.0 11622 'Pave' nan 'Reg' 'Lvl' 'AllPub' 'Inside' 'Gtl'\n",
            " 'NAmes' 'Feedr' 'Norm' '1Fam' '1Story' 5 6 1961 1961 'Gable' 'CompShg'\n",
            " 'VinylSd' 'VinylSd' 'None' 0.0 'TA' 'TA' 'CBlock' 'TA' 'TA' 'No' 'Rec'\n",
            " 468.0 'LwQ' 144.0 270.0 882.0 'GasA' 'TA' 'Y' 'SBrkr' 896 0 0 896 0.0 0.0\n",
            " 1 0 2 1 'TA' 5 'Typ' 0 nan 'Attchd' 1961.0 'Unf' 1.0 730.0 'TA' 'TA' 'Y'\n",
            " 140 0 0 0 120 0 nan 'MnPrv' nan 0 6 2010 'WD' 'Normal']\n"
          ],
          "name": "stdout"
        }
      ]
    },
    {
      "cell_type": "code",
      "metadata": {
        "id": "D6ZljpgeXZJW",
        "outputId": "571b0218-3e92-4d71-ae13-8e7af09d0761"
      },
      "source": [
        "# sizes of datasets\n",
        "\n",
        "print(train.shape, test.shape, y_train.shape)"
      ],
      "execution_count": null,
      "outputs": [
        {
          "output_type": "stream",
          "text": [
            "(1460, 81) (1459, 80) (1460,)\n"
          ],
          "name": "stdout"
        }
      ]
    },
    {
      "cell_type": "code",
      "metadata": {
        "id": "G8RbbztvXZJW"
      },
      "source": [
        "# cate_index: index for categotical features\n",
        "# num_index: index for numerical features.\n",
        "\n",
        "cate_index = []\n",
        "num_index = []"
      ],
      "execution_count": null,
      "outputs": []
    },
    {
      "cell_type": "code",
      "metadata": {
        "id": "sqa-jPPMXZJX",
        "outputId": "b9303948-353a-4ec2-ef24-fee5f06feb32"
      },
      "source": [
        "# print a set of features to determine whether it is a categorical feature or a numerical feature.\n",
        "\n",
        "print(X_train[0:10, 0:10])"
      ],
      "execution_count": null,
      "outputs": [
        {
          "output_type": "stream",
          "text": [
            "[[60 'RL' 65.0 8450 'Pave' nan 'Reg' 'Lvl' 'AllPub' 'Inside']\n",
            " [20 'RL' 80.0 9600 'Pave' nan 'Reg' 'Lvl' 'AllPub' 'FR2']\n",
            " [60 'RL' 68.0 11250 'Pave' nan 'IR1' 'Lvl' 'AllPub' 'Inside']\n",
            " [70 'RL' 60.0 9550 'Pave' nan 'IR1' 'Lvl' 'AllPub' 'Corner']\n",
            " [60 'RL' 84.0 14260 'Pave' nan 'IR1' 'Lvl' 'AllPub' 'FR2']\n",
            " [50 'RL' 85.0 14115 'Pave' nan 'IR1' 'Lvl' 'AllPub' 'Inside']\n",
            " [20 'RL' 75.0 10084 'Pave' nan 'Reg' 'Lvl' 'AllPub' 'Inside']\n",
            " [60 'RL' nan 10382 'Pave' nan 'IR1' 'Lvl' 'AllPub' 'Corner']\n",
            " [50 'RM' 51.0 6120 'Pave' nan 'Reg' 'Lvl' 'AllPub' 'Inside']\n",
            " [190 'RL' 50.0 7420 'Pave' nan 'Reg' 'Lvl' 'AllPub' 'Corner']]\n"
          ],
          "name": "stdout"
        }
      ]
    },
    {
      "cell_type": "code",
      "metadata": {
        "id": "dyytim1OXZJX"
      },
      "source": [
        "# add corresponding index into the list\n",
        "\n",
        "cate_index += [1,4,5,6,7,8,9]\n",
        "num_index += [0,2,3]"
      ],
      "execution_count": null,
      "outputs": []
    },
    {
      "cell_type": "code",
      "metadata": {
        "id": "dz98qSvKXZJX",
        "outputId": "56836fd1-e713-4fbe-80cf-d014d18c2fcc"
      },
      "source": [
        "# print a set of features to determine whether it is a categorical feature or a numerical feature.\n",
        "\n",
        "print(X_train[0:10, 10:20])"
      ],
      "execution_count": null,
      "outputs": [
        {
          "output_type": "stream",
          "text": [
            "[['Gtl' 'CollgCr' 'Norm' 'Norm' '1Fam' '2Story' 7 5 2003 2003]\n",
            " ['Gtl' 'Veenker' 'Feedr' 'Norm' '1Fam' '1Story' 6 8 1976 1976]\n",
            " ['Gtl' 'CollgCr' 'Norm' 'Norm' '1Fam' '2Story' 7 5 2001 2002]\n",
            " ['Gtl' 'Crawfor' 'Norm' 'Norm' '1Fam' '2Story' 7 5 1915 1970]\n",
            " ['Gtl' 'NoRidge' 'Norm' 'Norm' '1Fam' '2Story' 8 5 2000 2000]\n",
            " ['Gtl' 'Mitchel' 'Norm' 'Norm' '1Fam' '1.5Fin' 5 5 1993 1995]\n",
            " ['Gtl' 'Somerst' 'Norm' 'Norm' '1Fam' '1Story' 8 5 2004 2005]\n",
            " ['Gtl' 'NWAmes' 'PosN' 'Norm' '1Fam' '2Story' 7 6 1973 1973]\n",
            " ['Gtl' 'OldTown' 'Artery' 'Norm' '1Fam' '1.5Fin' 7 5 1931 1950]\n",
            " ['Gtl' 'BrkSide' 'Artery' 'Artery' '2fmCon' '1.5Unf' 5 6 1939 1950]]\n"
          ],
          "name": "stdout"
        }
      ]
    },
    {
      "cell_type": "code",
      "metadata": {
        "id": "luejDG56XZJX"
      },
      "source": [
        "# add corresponding index into the list\n",
        "\n",
        "cate_index += [10,11,12,13,14,15]\n",
        "num_index += [16,17,18,19]"
      ],
      "execution_count": null,
      "outputs": []
    },
    {
      "cell_type": "code",
      "metadata": {
        "id": "mJIlB4QyXZJY",
        "outputId": "00490cc8-745a-4ced-c4cb-95b185532490"
      },
      "source": [
        "# print a set of features to determine whether it is a categorical feature or a numerical feature.\n",
        "\n",
        "print(X_train[0:10, 20:30])"
      ],
      "execution_count": null,
      "outputs": [
        {
          "output_type": "stream",
          "text": [
            "[['Gable' 'CompShg' 'VinylSd' 'VinylSd' 'BrkFace' 196.0 'Gd' 'TA' 'PConc'\n",
            "  'Gd']\n",
            " ['Gable' 'CompShg' 'MetalSd' 'MetalSd' 'None' 0.0 'TA' 'TA' 'CBlock'\n",
            "  'Gd']\n",
            " ['Gable' 'CompShg' 'VinylSd' 'VinylSd' 'BrkFace' 162.0 'Gd' 'TA' 'PConc'\n",
            "  'Gd']\n",
            " ['Gable' 'CompShg' 'Wd Sdng' 'Wd Shng' 'None' 0.0 'TA' 'TA' 'BrkTil'\n",
            "  'TA']\n",
            " ['Gable' 'CompShg' 'VinylSd' 'VinylSd' 'BrkFace' 350.0 'Gd' 'TA' 'PConc'\n",
            "  'Gd']\n",
            " ['Gable' 'CompShg' 'VinylSd' 'VinylSd' 'None' 0.0 'TA' 'TA' 'Wood' 'Gd']\n",
            " ['Gable' 'CompShg' 'VinylSd' 'VinylSd' 'Stone' 186.0 'Gd' 'TA' 'PConc'\n",
            "  'Ex']\n",
            " ['Gable' 'CompShg' 'HdBoard' 'HdBoard' 'Stone' 240.0 'TA' 'TA' 'CBlock'\n",
            "  'Gd']\n",
            " ['Gable' 'CompShg' 'BrkFace' 'Wd Shng' 'None' 0.0 'TA' 'TA' 'BrkTil'\n",
            "  'TA']\n",
            " ['Gable' 'CompShg' 'MetalSd' 'MetalSd' 'None' 0.0 'TA' 'TA' 'BrkTil'\n",
            "  'TA']]\n"
          ],
          "name": "stdout"
        }
      ]
    },
    {
      "cell_type": "code",
      "metadata": {
        "id": "PLMdc75IXZJY"
      },
      "source": [
        "# add corresponding index into the list\n",
        "\n",
        "cate_index += [20,21,22,23,24,26,27,28,29]\n",
        "num_index += [25]"
      ],
      "execution_count": null,
      "outputs": []
    },
    {
      "cell_type": "code",
      "metadata": {
        "id": "rBs-Xl9dXZJY",
        "outputId": "4e06681e-abab-4fa4-9837-d79cfc8a7ba2"
      },
      "source": [
        "# print a set of features to determine whether it is a categorical feature or a numerical feature.\n",
        "\n",
        "print(X_train[0:10, 30:40])"
      ],
      "execution_count": null,
      "outputs": [
        {
          "output_type": "stream",
          "text": [
            "[['TA' 'No' 'GLQ' 706 'Unf' 0 150 856 'GasA' 'Ex']\n",
            " ['TA' 'Gd' 'ALQ' 978 'Unf' 0 284 1262 'GasA' 'Ex']\n",
            " ['TA' 'Mn' 'GLQ' 486 'Unf' 0 434 920 'GasA' 'Ex']\n",
            " ['Gd' 'No' 'ALQ' 216 'Unf' 0 540 756 'GasA' 'Gd']\n",
            " ['TA' 'Av' 'GLQ' 655 'Unf' 0 490 1145 'GasA' 'Ex']\n",
            " ['TA' 'No' 'GLQ' 732 'Unf' 0 64 796 'GasA' 'Ex']\n",
            " ['TA' 'Av' 'GLQ' 1369 'Unf' 0 317 1686 'GasA' 'Ex']\n",
            " ['TA' 'Mn' 'ALQ' 859 'BLQ' 32 216 1107 'GasA' 'Ex']\n",
            " ['TA' 'No' 'Unf' 0 'Unf' 0 952 952 'GasA' 'Gd']\n",
            " ['TA' 'No' 'GLQ' 851 'Unf' 0 140 991 'GasA' 'Ex']]\n"
          ],
          "name": "stdout"
        }
      ]
    },
    {
      "cell_type": "code",
      "metadata": {
        "id": "1-YYQgkoXZJY"
      },
      "source": [
        "# add corresponding index into the list\n",
        "\n",
        "cate_index += [30,31,32,34,38,39]\n",
        "num_index += [33,35,36,37]"
      ],
      "execution_count": null,
      "outputs": []
    },
    {
      "cell_type": "code",
      "metadata": {
        "id": "e1WINZDRXZJY",
        "outputId": "75bf8a0e-59ed-454e-8bfd-58af9eedda92"
      },
      "source": [
        "# print a set of features to determine whether it is a categorical feature or a numerical feature.\n",
        "\n",
        "print(X_train[0:10, 40:50])"
      ],
      "execution_count": null,
      "outputs": [
        {
          "output_type": "stream",
          "text": [
            "[['Y' 'SBrkr' 856 854 0 1710 1 0 2 1]\n",
            " ['Y' 'SBrkr' 1262 0 0 1262 0 1 2 0]\n",
            " ['Y' 'SBrkr' 920 866 0 1786 1 0 2 1]\n",
            " ['Y' 'SBrkr' 961 756 0 1717 1 0 1 0]\n",
            " ['Y' 'SBrkr' 1145 1053 0 2198 1 0 2 1]\n",
            " ['Y' 'SBrkr' 796 566 0 1362 1 0 1 1]\n",
            " ['Y' 'SBrkr' 1694 0 0 1694 1 0 2 0]\n",
            " ['Y' 'SBrkr' 1107 983 0 2090 1 0 2 1]\n",
            " ['Y' 'FuseF' 1022 752 0 1774 0 0 2 0]\n",
            " ['Y' 'SBrkr' 1077 0 0 1077 1 0 1 0]]\n"
          ],
          "name": "stdout"
        }
      ]
    },
    {
      "cell_type": "code",
      "metadata": {
        "id": "O6GSCA6qXZJZ"
      },
      "source": [
        "# add corresponding index into the list\n",
        "\n",
        "cate_index += [40,41]\n",
        "num_index += [42,43,44,45,46,47,48,49]"
      ],
      "execution_count": null,
      "outputs": []
    },
    {
      "cell_type": "code",
      "metadata": {
        "id": "0Is4JJADXZJZ",
        "outputId": "f82752d9-e466-4afa-ddd8-efbeea15b137"
      },
      "source": [
        "# print a set of features to determine whether it is a categorical feature or a numerical feature.\n",
        "\n",
        "print(X_train[0:10, 50:60])"
      ],
      "execution_count": null,
      "outputs": [
        {
          "output_type": "stream",
          "text": [
            "[[3 1 'Gd' 8 'Typ' 0 nan 'Attchd' 2003.0 'RFn']\n",
            " [3 1 'TA' 6 'Typ' 1 'TA' 'Attchd' 1976.0 'RFn']\n",
            " [3 1 'Gd' 6 'Typ' 1 'TA' 'Attchd' 2001.0 'RFn']\n",
            " [3 1 'Gd' 7 'Typ' 1 'Gd' 'Detchd' 1998.0 'Unf']\n",
            " [4 1 'Gd' 9 'Typ' 1 'TA' 'Attchd' 2000.0 'RFn']\n",
            " [1 1 'TA' 5 'Typ' 0 nan 'Attchd' 1993.0 'Unf']\n",
            " [3 1 'Gd' 7 'Typ' 1 'Gd' 'Attchd' 2004.0 'RFn']\n",
            " [3 1 'TA' 7 'Typ' 2 'TA' 'Attchd' 1973.0 'RFn']\n",
            " [2 2 'TA' 8 'Min1' 2 'TA' 'Detchd' 1931.0 'Unf']\n",
            " [2 2 'TA' 5 'Typ' 2 'TA' 'Attchd' 1939.0 'RFn']]\n"
          ],
          "name": "stdout"
        }
      ]
    },
    {
      "cell_type": "code",
      "metadata": {
        "id": "xnNd6nlwXZJZ"
      },
      "source": [
        "# add corresponding index into the list\n",
        "\n",
        "cate_index += [52,54,56,57,59]\n",
        "num_index += [50,51,53,55,58]"
      ],
      "execution_count": null,
      "outputs": []
    },
    {
      "cell_type": "code",
      "metadata": {
        "id": "84so4lFGXZJZ",
        "outputId": "6aced3c5-4716-4253-fb4e-34aba01c25c7"
      },
      "source": [
        "# print a set of features to determine whether it is a categorical feature or a numerical feature.\n",
        "\n",
        "print(X_train[0:10, 60:70])"
      ],
      "execution_count": null,
      "outputs": [
        {
          "output_type": "stream",
          "text": [
            "[[2 548 'TA' 'TA' 'Y' 0 61 0 0 0]\n",
            " [2 460 'TA' 'TA' 'Y' 298 0 0 0 0]\n",
            " [2 608 'TA' 'TA' 'Y' 0 42 0 0 0]\n",
            " [3 642 'TA' 'TA' 'Y' 0 35 272 0 0]\n",
            " [3 836 'TA' 'TA' 'Y' 192 84 0 0 0]\n",
            " [2 480 'TA' 'TA' 'Y' 40 30 0 320 0]\n",
            " [2 636 'TA' 'TA' 'Y' 255 57 0 0 0]\n",
            " [2 484 'TA' 'TA' 'Y' 235 204 228 0 0]\n",
            " [2 468 'Fa' 'TA' 'Y' 90 0 205 0 0]\n",
            " [1 205 'Gd' 'TA' 'Y' 0 4 0 0 0]]\n"
          ],
          "name": "stdout"
        }
      ]
    },
    {
      "cell_type": "code",
      "metadata": {
        "id": "Ofh0vmzoXZJa"
      },
      "source": [
        "# add corresponding index into the list\n",
        "\n",
        "cate_index += [62,63,64]\n",
        "num_index += [60,61,65,66,67,68,69]"
      ],
      "execution_count": null,
      "outputs": []
    },
    {
      "cell_type": "code",
      "metadata": {
        "id": "dzncopiwXZJa",
        "outputId": "d41c20ed-4365-4e86-d90a-78f7f0b95499"
      },
      "source": [
        "# print a set of features to determine whether it is a categorical feature or a numerical feature.\n",
        "\n",
        "print(X_train[0:10, 70:])"
      ],
      "execution_count": null,
      "outputs": [
        {
          "output_type": "stream",
          "text": [
            "[[0 nan nan nan 0 2 2008 'WD' 'Normal']\n",
            " [0 nan nan nan 0 5 2007 'WD' 'Normal']\n",
            " [0 nan nan nan 0 9 2008 'WD' 'Normal']\n",
            " [0 nan nan nan 0 2 2006 'WD' 'Abnorml']\n",
            " [0 nan nan nan 0 12 2008 'WD' 'Normal']\n",
            " [0 nan 'MnPrv' 'Shed' 700 10 2009 'WD' 'Normal']\n",
            " [0 nan nan nan 0 8 2007 'WD' 'Normal']\n",
            " [0 nan nan 'Shed' 350 11 2009 'WD' 'Normal']\n",
            " [0 nan nan nan 0 4 2008 'WD' 'Abnorml']\n",
            " [0 nan nan nan 0 1 2008 'WD' 'Normal']]\n"
          ],
          "name": "stdout"
        }
      ]
    },
    {
      "cell_type": "code",
      "metadata": {
        "id": "odhmmHvuXZJa"
      },
      "source": [
        "# add corresponding index into the list\n",
        "\n",
        "cate_index += [71,72,73,77,78]\n",
        "num_index += [70,74,75,76]"
      ],
      "execution_count": null,
      "outputs": []
    },
    {
      "cell_type": "code",
      "metadata": {
        "id": "9r5csvlJXZJa",
        "outputId": "883456ca-1856-4c19-a73f-432d35bf1ac7"
      },
      "source": [
        "# Have a look at the index\n",
        "\n",
        "print(cate_index)\n",
        "print(num_index)\n",
        "\n",
        "print(len(cate_index), len(num_index))"
      ],
      "execution_count": null,
      "outputs": [
        {
          "output_type": "stream",
          "text": [
            "[1, 4, 5, 6, 7, 8, 9, 10, 11, 12, 13, 14, 15, 20, 21, 22, 23, 24, 26, 27, 28, 29, 30, 31, 32, 34, 38, 39, 40, 41, 52, 54, 56, 57, 59, 62, 63, 64, 71, 72, 73, 77, 78]\n",
            "[0, 2, 3, 16, 17, 18, 19, 25, 33, 35, 36, 37, 42, 43, 44, 45, 46, 47, 48, 49, 50, 51, 53, 55, 58, 60, 61, 65, 66, 67, 68, 69, 70, 74, 75, 76]\n",
            "43 36\n"
          ],
          "name": "stdout"
        }
      ]
    },
    {
      "cell_type": "code",
      "metadata": {
        "id": "M2G_iWklXZJa",
        "outputId": "2ef23892-488a-4e07-b781-0b6a2bf1c1df"
      },
      "source": [
        "print(X_train.shape, X_test.shape)"
      ],
      "execution_count": null,
      "outputs": [
        {
          "output_type": "stream",
          "text": [
            "(1460, 79) (1459, 79)\n"
          ],
          "name": "stdout"
        }
      ]
    },
    {
      "cell_type": "markdown",
      "metadata": {
        "id": "OueJuXRtXZJa"
      },
      "source": [
        "# Preprocessing."
      ]
    },
    {
      "cell_type": "code",
      "metadata": {
        "id": "RFFLbz6nXZJb"
      },
      "source": [
        "from sklearn.preprocessing import OneHotEncoder\n",
        "from sklearn.impute import SimpleImputer\n",
        "\n",
        "# preprocess the categorical features using one-hot-encoder\n",
        "\n",
        "for i in range(len(cate_index)):\n",
        "    i_data = np.hstack((X_train[:, cate_index[i]], X_test[:, cate_index[i]]))\n",
        "    i_data = np.array(i_data)\n",
        "    \n",
        "    # missing values are fixed using SimpleImputer\n",
        "    \n",
        "    imp_mean = SimpleImputer(missing_values=np.nan, strategy='most_frequent')\n",
        "    imp_mean.fit(i_data.reshape((-1,1)))\n",
        "    i_data = imp_mean.transform(i_data.reshape((-1,1)))\n",
        "    i_train = imp_mean.transform(X_train[:, cate_index[i]].reshape((-1,1)))\n",
        "    i_test = imp_mean.transform(X_test[:, cate_index[i]].reshape((-1,1)))\n",
        "    \n",
        "    # One hot encoder to transform the categorical features.\n",
        "    \n",
        "    enc = OneHotEncoder(handle_unknown='ignore')\n",
        "    enc.fit(i_data.reshape((-1,1)))\n",
        "    i_data = enc.transform(i_data.reshape((-1,1))).toarray()\n",
        "    i_train = enc.transform(i_train.reshape((-1,1))).toarray()\n",
        "    i_test = enc.transform(i_test.reshape((-1,1))).toarray()\n",
        "    \n",
        "    # Create the encoded dataset\n",
        "    \n",
        "    if i == 0:\n",
        "        train_enc = np.array(i_train)\n",
        "        test_enc = np.array(i_test)\n",
        "    else:\n",
        "        train_enc = np.hstack((train_enc, i_train))\n",
        "        test_enc = np.hstack((test_enc, i_test))\n"
      ],
      "execution_count": null,
      "outputs": []
    },
    {
      "cell_type": "code",
      "metadata": {
        "id": "THKY56T1XZJb",
        "outputId": "a691b578-38ff-45f7-d0a6-780e1d8f05f4"
      },
      "source": [
        "print(train_enc.shape, test_enc.shape)"
      ],
      "execution_count": null,
      "outputs": [
        {
          "output_type": "stream",
          "text": [
            "(1460, 252) (1459, 252)\n"
          ],
          "name": "stdout"
        }
      ]
    },
    {
      "cell_type": "code",
      "metadata": {
        "id": "qVVhlzXyXZJb"
      },
      "source": [
        "# preprocess the numerical features using one-hot-encoder\n",
        "\n",
        "for i in range(len(num_index)):\n",
        "    i_data = np.hstack((X_train[:, num_index[i]], X_test[:, num_index[i]]))\n",
        "    i_data = np.array(i_data)\n",
        "    \n",
        "    # missing values are fixed using SimpleImputer\n",
        "\n",
        "    imp_mean = SimpleImputer(missing_values=np.nan, strategy='mean')\n",
        "    imp_mean.fit(i_data.reshape((-1,1)))\n",
        "    i_data = imp_mean.transform(i_data.reshape((-1,1)))\n",
        "    i_train = imp_mean.transform(X_train[:, num_index[i]].reshape((-1,1)))\n",
        "    i_test = imp_mean.transform(X_test[:, num_index[i]].reshape((-1,1)))\n",
        "    \n",
        "    # add the numerical features into the dataset\n",
        "    \n",
        "    train_enc = np.hstack((train_enc, i_train))\n",
        "    test_enc = np.hstack((test_enc, i_test))"
      ],
      "execution_count": null,
      "outputs": []
    },
    {
      "cell_type": "code",
      "metadata": {
        "id": "1HUJri30XZJc",
        "outputId": "168b7e51-94af-4d1e-8b66-b7a499a5a7f9"
      },
      "source": [
        "print(train_enc.shape, test_enc.shape)"
      ],
      "execution_count": null,
      "outputs": [
        {
          "output_type": "stream",
          "text": [
            "(1460, 288) (1459, 288)\n"
          ],
          "name": "stdout"
        }
      ]
    },
    {
      "cell_type": "markdown",
      "metadata": {
        "id": "tvyXofIZXZJc"
      },
      "source": [
        "So we have 288 features in total (after one hot encoding transformation)."
      ]
    },
    {
      "cell_type": "code",
      "metadata": {
        "id": "MU5XsQfDXZJc",
        "outputId": "470da91e-97a5-441b-94fd-d3c9ce7bd811"
      },
      "source": [
        "# check the shape of y_train dataset\n",
        "print(y_train.shape)"
      ],
      "execution_count": null,
      "outputs": [
        {
          "output_type": "stream",
          "text": [
            "(1460,)\n"
          ],
          "name": "stdout"
        }
      ]
    },
    {
      "cell_type": "code",
      "metadata": {
        "id": "646isZUqXZJc"
      },
      "source": [
        "# use SimpleImputer to fix missing value in the label y_train (\"SalePrice\")\n",
        "\n",
        "imp_mean = SimpleImputer(missing_values=np.nan, strategy='mean')\n",
        "imp_mean.fit(y_train.reshape((-1,1)))\n",
        "y_train = imp_mean.transform(y_train.reshape((-1,1)))"
      ],
      "execution_count": null,
      "outputs": []
    },
    {
      "cell_type": "code",
      "metadata": {
        "id": "GGColpqCXZJc",
        "outputId": "dc941495-bee5-4839-9ecb-10ea47f7af48"
      },
      "source": [
        "# Check that there is no missing value in the label dataset.\n",
        "\n",
        "np.sum(np.isnan(y_train))"
      ],
      "execution_count": null,
      "outputs": [
        {
          "output_type": "execute_result",
          "data": {
            "text/plain": [
              "0"
            ]
          },
          "metadata": {
            "tags": []
          },
          "execution_count": 365
        }
      ]
    },
    {
      "cell_type": "code",
      "metadata": {
        "id": "o9RFntxLXZJd"
      },
      "source": [
        "from sklearn.preprocessing import MinMaxScaler\n",
        "\n",
        "# Normalize the features into the value range (0,1)\n",
        "\n",
        "scaler = MinMaxScaler()\n",
        "scaler.fit(np.vstack((train_enc, test_enc)))\n",
        "train_enc = scaler.transform(train_enc)\n",
        "test_enc = scaler.transform(test_enc)"
      ],
      "execution_count": null,
      "outputs": []
    },
    {
      "cell_type": "markdown",
      "metadata": {
        "id": "EDjwapsTXZJd"
      },
      "source": [
        "### train_enc: features of training set\n",
        "### test: features of testing set\n",
        "### y_train: \"SalePrice\" of training set"
      ]
    },
    {
      "cell_type": "markdown",
      "metadata": {
        "id": "SZIQ5WRGXZJd"
      },
      "source": [
        "# Split the training set.\n"
      ]
    },
    {
      "cell_type": "code",
      "metadata": {
        "id": "E6tdzhdTXZJd",
        "outputId": "fc0aff94-6ebf-4e39-ce94-159ced4cc71c"
      },
      "source": [
        "print(train_enc.shape, test_enc.shape, y_train.shape)"
      ],
      "execution_count": null,
      "outputs": [
        {
          "output_type": "stream",
          "text": [
            "(1460, 288) (1459, 288) (1460, 1)\n"
          ],
          "name": "stdout"
        }
      ]
    },
    {
      "cell_type": "code",
      "metadata": {
        "id": "5peQ_5-uXZJd",
        "outputId": "cbaef51f-3a20-4c1c-eb22-9f6ced4bb5c6"
      },
      "source": [
        "# split the original training dataset into training set and testing set\n",
        "\n",
        "from sklearn.model_selection import train_test_split\n",
        "\n",
        "data = np.hstack((train_enc, y_train))\n",
        "train, test = train_test_split(data, test_size = 0.3)\n",
        "x_train = train[:, :-1]\n",
        "y_train = train[:, -1]\n",
        "x_test = test[:, :-1]\n",
        "y_test = test[:, -1]\n",
        "x_final_test = test_enc\n",
        "\n",
        "print(x_train.shape, y_train.shape, x_test.shape)"
      ],
      "execution_count": null,
      "outputs": [
        {
          "output_type": "stream",
          "text": [
            "(1022, 288) (1022,) (438, 288)\n"
          ],
          "name": "stdout"
        }
      ]
    },
    {
      "cell_type": "markdown",
      "metadata": {
        "id": "_8cvYXQ3XZJd"
      },
      "source": [
        "# Linear regression."
      ]
    },
    {
      "cell_type": "code",
      "metadata": {
        "id": "51JvaQejXZJd",
        "outputId": "0f7daf10-b99d-4410-912d-4a8af51909cd"
      },
      "source": [
        "from sklearn.linear_model import LinearRegression\n",
        "from sklearn.metrics import mean_squared_error \n",
        "from math import sqrt\n",
        "\n",
        "# Implement the linear regression model\n",
        "\n",
        "reg = LinearRegression().fit(x_train, y_train)\n",
        "\n",
        "# Make prediction using the linear regression model.\n",
        "\n",
        "pred = reg.predict(x_test)\n",
        "\n",
        "# Have a look at the first 100 prediction values and corresponding ground truth values.\n",
        "\n",
        "print(pred[:100])\n",
        "print(y_test[:100])\n",
        "\n",
        "error = sqrt(mean_squared_error(y_test[:100],pred[:100]))\n",
        "error"
      ],
      "execution_count": null,
      "outputs": [
        {
          "output_type": "stream",
          "text": [
            "[ 3.80928000e+05  3.97568000e+05  1.46816000e+05  1.92640000e+05\n",
            "  2.66083187e+16  1.85344000e+05  1.76512000e+05  1.37728000e+05\n",
            "  3.47264000e+05  1.01504000e+05  6.23360000e+04  1.25696000e+05\n",
            "  1.67040000e+05  2.20544000e+05  2.75328000e+05  2.24640000e+05\n",
            "  1.24032000e+05  1.82016000e+05  1.62048000e+05  1.94176000e+05\n",
            "  2.58432000e+05  2.00576000e+05  1.44000000e+05  1.40416000e+05\n",
            "  1.99808000e+05  1.14304000e+05  2.68928000e+05  1.05472000e+05\n",
            "  1.08160000e+05  1.77536000e+05  1.75360000e+05  9.28000000e+04\n",
            "  1.82784000e+05  1.06368000e+05  1.51680000e+05  1.29536000e+05\n",
            "  1.79328000e+05  1.12128000e+05  1.12768000e+05  1.97248000e+05\n",
            "  2.78400000e+05  1.81120000e+05  1.18272000e+05  1.35168000e+05\n",
            "  2.11840000e+05  1.38624000e+05  1.05344000e+05  1.81120000e+05\n",
            "  8.17920000e+04  5.72160000e+04  2.28224000e+05  2.06464000e+05\n",
            "  2.18240000e+05  4.15872000e+05  1.50272000e+05  6.42560000e+04\n",
            "  1.56544000e+05  1.51680000e+05  1.87776000e+05  2.43328000e+05\n",
            "  5.69600000e+04  2.15680000e+05  1.53088000e+05  1.63968000e+05\n",
            "  1.96864000e+05  4.42880000e+05  2.28864000e+05  2.59584000e+05\n",
            "  1.76000000e+05  2.68416000e+05  7.30880000e+04  1.21600000e+05\n",
            "  2.00832000e+05  3.30112000e+05  1.55008000e+05  6.41280000e+04\n",
            "  1.53984000e+05  1.97376000e+05  1.16352000e+05  2.93760000e+05\n",
            "  2.74560000e+05  1.79456000e+05  2.21952000e+05  1.15712000e+05\n",
            "  2.19520000e+05  1.63456000e+05  1.88672000e+05  2.53568000e+05\n",
            "  1.29024000e+05 -1.61406276e+16  2.14400000e+05  1.96224000e+05\n",
            "  1.63072000e+05  1.20448000e+05  1.47712000e+05  1.49120000e+05\n",
            "  1.45536000e+05  2.48576000e+05  1.15328000e+05  2.61760000e+05]\n",
            "[335000. 385000. 152000. 234000. 287000. 173900. 147000. 147000. 315000.\n",
            " 108000.  87000. 110000. 136500. 204000. 260000. 245350.  84500. 195000.\n",
            " 167900. 189000. 252678. 204750. 129000. 146500. 186500. 106000. 244000.\n",
            " 100000. 113000. 175000. 181000. 108000. 176500.  79000. 165000. 135000.\n",
            " 197000. 143250. 135000. 184000. 264132. 158000. 109500. 143000. 202665.\n",
            " 131400.  91000. 170000. 101800.  80000. 217000. 207500. 216000. 386250.\n",
            " 129900. 124000. 155000. 135000. 188500. 287000.  39300. 226700. 140000.\n",
            " 135000. 192140. 437154. 207500. 285000. 161000. 378500. 102776. 128000.\n",
            " 175000. 318061. 128500.  95000. 142953. 175000. 104000. 280000. 392000.\n",
            " 195000. 200000. 118000. 216500. 160000. 200500. 262500.  62383. 105000.\n",
            " 213500. 189000. 155000. 140000. 160000. 159500. 148500. 315000. 122500.\n",
            " 215000.]\n"
          ],
          "name": "stdout"
        },
        {
          "output_type": "execute_result",
          "data": {
            "text/plain": [
              "3112109382626764.0"
            ]
          },
          "metadata": {
            "tags": []
          },
          "execution_count": 369
        }
      ]
    },
    {
      "cell_type": "markdown",
      "metadata": {
        "id": "9C7giWVgXZJe"
      },
      "source": [
        "#### Note that there are few prediction value in the first 100 test points that is very large: ~e+16, so we restrict the value range of the prediction within the range of the training set's saleprice value range."
      ]
    },
    {
      "cell_type": "code",
      "metadata": {
        "id": "sEL7MeSrXZJe",
        "outputId": "773c6ee4-25ae-4d15-9a36-beded654ca16"
      },
      "source": [
        "# restrict the value range of prediction.\n",
        "\n",
        "min_train = y_train.min()\n",
        "max_train = y_train.max()\n",
        "print(min_train, max_train)\n",
        "\n",
        "for i in range(len(pred)):\n",
        "    if pred[i] <= min_train:\n",
        "        pred[i] = min_train\n",
        "    elif pred[i] >= max_train:\n",
        "        pred[i] = max_train"
      ],
      "execution_count": null,
      "outputs": [
        {
          "output_type": "stream",
          "text": [
            "35311.0 755000.0\n"
          ],
          "name": "stdout"
        }
      ]
    },
    {
      "cell_type": "code",
      "metadata": {
        "id": "aXJYZfOQXZJe",
        "outputId": "d1517970-043f-4c15-fdce-d73110b32b9a"
      },
      "source": [
        "error = sqrt(mean_squared_error(y_test,pred))\n",
        "error\n",
        "print('RMSE value for this linear regression model is: ', error)"
      ],
      "execution_count": null,
      "outputs": [
        {
          "output_type": "stream",
          "text": [
            "RMSE value for this linear regression model is:  65256.00009406228\n"
          ],
          "name": "stdout"
        }
      ]
    },
    {
      "cell_type": "markdown",
      "metadata": {
        "id": "szHji4nXXZJe"
      },
      "source": [
        "# KNN model."
      ]
    },
    {
      "cell_type": "code",
      "metadata": {
        "id": "UnqHT4s7XZJe",
        "outputId": "b7b8f1a3-1bbe-4a23-ab3a-50f1c371b81d"
      },
      "source": [
        "from sklearn import neighbors\n",
        "from sklearn.metrics import mean_squared_error \n",
        "from math import sqrt\n",
        "import matplotlib.pyplot as plt\n",
        "%matplotlib inline\n",
        "rmse_val = []\n",
        "#append RMSE value at K values from 1 to 20\n",
        "for K in range(20):\n",
        "    K = K+1\n",
        "    model = neighbors.KNeighborsRegressor(n_neighbors = K)\n",
        "\n",
        "    model.fit(x_train, y_train)  \n",
        "    pred=model.predict(x_test) \n",
        "    error = sqrt(mean_squared_error(y_test,pred)) \n",
        "    rmse_val.append(error) \n",
        "    print('RMSE value for k= ' , K , 'is:', error)"
      ],
      "execution_count": null,
      "outputs": [
        {
          "output_type": "stream",
          "text": [
            "RMSE value for k=  1 is: 54218.945411175235\n",
            "RMSE value for k=  2 is: 49326.95465167431\n",
            "RMSE value for k=  3 is: 45998.30498524347\n",
            "RMSE value for k=  4 is: 45154.46231848256\n",
            "RMSE value for k=  5 is: 45523.52951141143\n",
            "RMSE value for k=  6 is: 45366.684431024994\n",
            "RMSE value for k=  7 is: 44850.31156870481\n",
            "RMSE value for k=  8 is: 44205.04457286398\n",
            "RMSE value for k=  9 is: 44079.595004494695\n",
            "RMSE value for k=  10 is: 44231.23437271857\n",
            "RMSE value for k=  11 is: 44318.23116632754\n",
            "RMSE value for k=  12 is: 44811.4257120627\n",
            "RMSE value for k=  13 is: 45111.55807062188\n",
            "RMSE value for k=  14 is: 45402.02121280975\n",
            "RMSE value for k=  15 is: 45567.925856509675\n",
            "RMSE value for k=  16 is: 45562.75812771226\n",
            "RMSE value for k=  17 is: 45521.08353039962\n",
            "RMSE value for k=  18 is: 45663.548783568614\n",
            "RMSE value for k=  19 is: 45488.49244445747\n",
            "RMSE value for k=  20 is: 45551.96578864758\n"
          ],
          "name": "stdout"
        }
      ]
    },
    {
      "cell_type": "code",
      "metadata": {
        "id": "hM-8dMd9XZJf",
        "outputId": "85d6d36e-ec27-4414-820e-090e237254e0"
      },
      "source": [
        "#elbow plot of RMSE and K value\n",
        "curve = pd.DataFrame(rmse_val) \n",
        "curve.plot()"
      ],
      "execution_count": null,
      "outputs": [
        {
          "output_type": "execute_result",
          "data": {
            "text/plain": [
              "<AxesSubplot:>"
            ]
          },
          "metadata": {
            "tags": []
          },
          "execution_count": 373
        },
        {
          "output_type": "display_data",
          "data": {
            "image/png": "[encoded data removed]",
            "text/plain": [
              "<Figure size 432x288 with 1 Axes>"
            ]
          },
          "metadata": {
            "tags": [],
            "needs_background": "light"
          }
        }
      ]
    },
    {
      "cell_type": "markdown",
      "metadata": {
        "id": "t9gsoXcxXZJf"
      },
      "source": [
        "# Neural network."
      ]
    },
    {
      "cell_type": "code",
      "metadata": {
        "id": "T6ZaHPYlXZJf"
      },
      "source": [
        "import time\n",
        "import torch\n",
        "import torch.nn as nn\n",
        "import torch.nn.functional as F\n",
        "import torchvision\n",
        "import torchvision.transforms as transforms\n",
        "import torchvision.models as models\n",
        "import torch.optim as optim\n",
        "from sklearn.linear_model import LogisticRegression\n",
        "import numpy as np\n",
        "import matplotlib.pyplot as plt"
      ],
      "execution_count": null,
      "outputs": []
    },
    {
      "cell_type": "code",
      "metadata": {
        "id": "lOfiZCOvXZJf"
      },
      "source": [
        "import torch.utils.data as data_utils\n",
        "\n",
        "batch_size=128 # determine the batch size.\n",
        "\n",
        "# create the dataloader for the neural network.\n",
        "\n",
        "y_train = torch.tensor(y_train)\n",
        "x_train = torch.tensor(x_train) \n",
        "train_tensor = data_utils.TensorDataset(x_train, y_train) \n",
        "train_loader = data_utils.DataLoader(dataset = train_tensor, batch_size = batch_size, shuffle = True)\n",
        "\n",
        "y_test = torch.tensor(y_test)\n",
        "x_test = torch.tensor(x_test) \n",
        "test_tensor = data_utils.TensorDataset(x_test, y_test) \n",
        "test_loader = data_utils.DataLoader(dataset = train_tensor, batch_size = batch_size, shuffle = True)"
      ],
      "execution_count": null,
      "outputs": []
    },
    {
      "cell_type": "code",
      "metadata": {
        "id": "2ammISlmXZJf"
      },
      "source": [
        "# in this model I use relu activation function and 3-layer structure.\n",
        "\n",
        "class Net_relu(nn.Module): \n",
        "    def __init__(self):\n",
        "        super(Net_relu, self).__init__()\n",
        "        self.fc1 = nn.Linear(288, 1024)\n",
        "        self.fc2 = nn.Linear(1024, 256)\n",
        "        self.fc3 = nn.Linear(256, 1)\n",
        "\n",
        "    def forward(self, x):\n",
        "        x = self.fc1(x)\n",
        "        x = F.relu(x)\n",
        "        x = self.fc2(x)\n",
        "        x = F.relu(x)\n",
        "        x = self.fc3(x)\n",
        "        output = x\n",
        "        return output"
      ],
      "execution_count": null,
      "outputs": []
    },
    {
      "cell_type": "code",
      "metadata": {
        "id": "FULNDwrAXZJf"
      },
      "source": [
        "def train(model, train_loader, optimizer, epoch, train_loss, train_accu):\n",
        "    model.train() \n",
        "    train_l = 0 # training loss.\n",
        "    \n",
        "    # optimize the neural network with batches of data points.\n",
        "    \n",
        "    for batch_idx, (data, target) in enumerate(train_loader):\n",
        "        optimizer.zero_grad()\n",
        "        output = model(data.float()).float()\n",
        "        loss = F.mse_loss(output, target.float()).float() # mse loss\n",
        "        train_l += loss.item()\n",
        "        loss.backward() # backpropogate the loss\n",
        "        optimizer.step()\n",
        "            \n",
        "    train_loss.append(train_l/len(train_loader.dataset))"
      ],
      "execution_count": null,
      "outputs": []
    },
    {
      "cell_type": "code",
      "metadata": {
        "id": "ACKbjaP5XZJg"
      },
      "source": [
        "# test the neural network using testing dataset\n",
        "\n",
        "def test(model, test_loader, test_loss, test_accu):\n",
        "    model.eval()\n",
        "    test_l = 0\n",
        "    correct = 0\n",
        "    with torch.no_grad(): \n",
        "        for data, target in test_loader:\n",
        "            output = model(data.float()).float()\n",
        "            test_l += F.mse_loss(output, target.float()).float()\n",
        "\n",
        "    test_loss.append(test_l/len(test_loader.dataset))"
      ],
      "execution_count": null,
      "outputs": []
    },
    {
      "cell_type": "code",
      "metadata": {
        "id": "_sIQ_Ab2XZJg",
        "outputId": "ea4b866e-dab9-4ce4-e649-855cf1bc70c5"
      },
      "source": [
        "model = Net_relu()\n",
        "optimizer = optim.Adadelta(model.parameters(), lr=50.5)\n",
        "train_loss = []\n",
        "test_loss = []\n",
        "train_accu = []\n",
        "test_accu = []\n",
        "\n",
        "# train the neural network with 100 epoches.\n",
        "\n",
        "for epoch in range(1, 100 + 1):\n",
        "    if epoch%10==0:\n",
        "        print('Epoch: ', epoch)\n",
        "    train(model, train_loader, optimizer, epoch, train_loss, train_accu)\n",
        "    test(model, test_loader, test_loss, test_accu)"
      ],
      "execution_count": null,
      "outputs": [
        {
          "output_type": "stream",
          "text": [
            "Epoch:  10\n",
            "Epoch:  20\n",
            "Epoch:  30\n",
            "Epoch:  40\n",
            "Epoch:  50\n",
            "Epoch:  60\n",
            "Epoch:  70\n",
            "Epoch:  80\n",
            "Epoch:  90\n",
            "Epoch:  100\n"
          ],
          "name": "stdout"
        }
      ]
    },
    {
      "cell_type": "code",
      "metadata": {
        "id": "IZld5uMoXZJg",
        "outputId": "8f145323-9282-4442-b08a-6c5ac833cda4"
      },
      "source": [
        "# plot the training loss and testing loss over time.\n",
        "\n",
        "xx = range(100)\n",
        "plt.plot(xx, train_loss, label='Training Loss')\n",
        "plt.plot(xx, test_loss, label='Testing Loss')\n",
        "plt.title('Loss  vs  Epoch')\n",
        "plt.xlabel('Epoch')\n",
        "plt.ylabel('Loss')\n",
        "plt.legend()\n",
        "plt.show()"
      ],
      "execution_count": null,
      "outputs": [
        {
          "output_type": "display_data",
          "data": {
            "image/png": "[encoded data removed]",
            "text/plain": [
              "<Figure size 432x288 with 1 Axes>"
            ]
          },
          "metadata": {
            "tags": [],
            "needs_background": "light"
          }
        }
      ]
    },
    {
      "cell_type": "code",
      "metadata": {
        "id": "nIRbERVUXZJg",
        "outputId": "0a223642-bb4a-4942-d179-c7463d517286"
      },
      "source": [
        "# Use the last 20 test_loss values to calculate the RMSE value\n",
        "\n",
        "np_test_loss = np.sqrt(np.array(test_loss))\n",
        "error = np_test_loss[-20:].mean()\n",
        "print('RMSE value for neural network model is: ', error)"
      ],
      "execution_count": null,
      "outputs": [
        {
          "output_type": "stream",
          "text": [
            "RMSE value for neural network model is:  7076.742\n"
          ],
          "name": "stdout"
        }
      ]
    },
    {
      "cell_type": "code",
      "metadata": {
        "id": "7knLfanmXZJg"
      },
      "source": [
        ""
      ],
      "execution_count": null,
      "outputs": []
    }
  ]
}